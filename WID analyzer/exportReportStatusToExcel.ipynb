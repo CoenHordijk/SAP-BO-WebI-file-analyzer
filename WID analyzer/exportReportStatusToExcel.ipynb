{
 "cells": [
  {
   "cell_type": "code",
   "execution_count": null,
   "id": "9f3708a5-1120-43af-9093-dcaff9991639",
   "metadata": {},
   "outputs": [],
   "source": [
    "%load_ext autoreload"
   ]
  },
  {
   "cell_type": "code",
   "execution_count": null,
   "id": "7e02d334-2bca-4eb2-9b9c-a20e507f81f4",
   "metadata": {},
   "outputs": [],
   "source": [
    "%autoreload 2    \n",
    "import os, glob, re\n",
    "import zipfile as zf\n",
    "import WIDParseTools as wpt\n",
    "import pandas as pd\n",
    "import time"
   ]
  },
  {
   "cell_type": "markdown",
   "id": "ced4b455-8dfc-4591-8267-7204219dc06b",
   "metadata": {},
   "source": [
    "<H2>Enter report details here</H2>"
   ]
  },
  {
   "cell_type": "code",
   "execution_count": null,
   "id": "85a09132-8822-42b3-94b5-1050e0bbd8a5",
   "metadata": {},
   "outputs": [],
   "source": [
    "# Path where the wid file is\n",
    "mypath = 'C:\\\\wids\\\\'\n",
    "# part of wid file name\n",
    "RapportCode = 'blah'"
   ]
  },
  {
   "cell_type": "markdown",
   "id": "dfcb394f-b828-423f-9faf-abb0dc5f249d",
   "metadata": {},
   "source": [
    "<H3>Analyse van individueel rapport -> Excel </H3>"
   ]
  },
  {
   "cell_type": "code",
   "execution_count": null,
   "id": "3dbc0321-f7c7-41bf-9f0f-c7e5eb312863",
   "metadata": {},
   "outputs": [],
   "source": [
    "%%time\n",
    "\n",
    "\n",
    "allvardepslist = []\n",
    "\n",
    "# showalldeps = True: haalt alle links op van variabele naar het rapport\n",
    "# showalldeps = False: haalt alleen het korste pad op van variabele naar rapport\n",
    "showalldeps = True\n",
    "\n",
    "widfiles = mypath +  '*.wid'\n",
    "for widfile in glob.glob(widfiles):\n",
    "\n",
    "    widfilearchive = zf.ZipFile(widfile, mode='r')\n",
    "\n",
    "    docprops = wpt.ReadDocumentProps(widfilearchive)\n",
    "   \n",
    "    reportName = docprops['name']\n",
    "\n",
    "    if reportName.find(RapportCode)>-1:\n",
    "    \n",
    "        print(widfile,':',reportName)\n",
    "        # print(docprops)\n",
    "    \n",
    "        df_vardependencies, df_varreportusage, df_alerters = wpt.AnalyzeReport(widfilearchive, showalldeps)\n",
    "        df_vardependencies.insert(0, 'ReportName',  reportName, True)\n",
    "    \n",
    "        df_formulas = wpt.GetReportFormulas(widfilearchive)\n",
    "    \n",
    "        widfilearchive.close()\n",
    "        \n",
    "        outputdir = mypath\n",
    "        # Write results to excel\n",
    "        exportfilename  = outputdir + reportName + '.xlsx'\n",
    "        print('writing to ', exportfilename)\n",
    "        with pd.ExcelWriter(outputdir + reportName + '.xlsx') as excel_writer:\n",
    "            df_vardependencies.to_excel(excel_writer, sheet_name='Variable dependencies', index=False)\n",
    "            df_varreportusage.to_excel(excel_writer, sheet_name='Variable report usage', index=False)\n",
    "            df_formulas.to_excel(excel_writer, sheet_name='Report formulas', index=False)\n",
    "            df_alerters.to_excel(excel_writer, sheet_name='Alerter status', index=False)\n",
    "\n",
    "    widfilearchive.close()"
   ]
  }
 ],
 "metadata": {
  "kernelspec": {
   "display_name": "Python 3 (ipykernel)",
   "language": "python",
   "name": "python3"
  },
  "language_info": {
   "codemirror_mode": {
    "name": "ipython",
    "version": 3
   },
   "file_extension": ".py",
   "mimetype": "text/x-python",
   "name": "python",
   "nbconvert_exporter": "python",
   "pygments_lexer": "ipython3",
   "version": "3.13.5"
  }
 },
 "nbformat": 4,
 "nbformat_minor": 5
}
