{
 "cells": [
  {
   "cell_type": "code",
   "execution_count": 12,
   "id": "9f3708a5-1120-43af-9093-dcaff9991639",
   "metadata": {},
   "outputs": [
    {
     "name": "stdout",
     "output_type": "stream",
     "text": [
      "The autoreload extension is already loaded. To reload it, use:\n",
      "  %reload_ext autoreload\n"
     ]
    }
   ],
   "source": [
    "%load_ext autoreload"
   ]
  },
  {
   "cell_type": "code",
   "execution_count": 13,
   "id": "7e02d334-2bca-4eb2-9b9c-a20e507f81f4",
   "metadata": {},
   "outputs": [],
   "source": [
    "%autoreload 2    \n",
    "import os, glob, re\n",
    "import zipfile as zf\n",
    "import WIDParseTools as wpt\n",
    "import pandas as pd\n",
    "import time"
   ]
  },
  {
   "cell_type": "code",
   "execution_count": 26,
   "id": "7fdd390e-7f58-440c-8f42-60fa6bdf7620",
   "metadata": {},
   "outputs": [],
   "source": [
    "mypath = '<<<ENTER YOUR PATH HERE>>>\\\\Documents\\\\My SAP BusinessObjects Documents\\\\userDocs\\\\'\n",
    "myWebiReport = '<<<REPORTNAME>>>.wid'\n",
    "\n",
    "myWebiPathReport =  mypath + myWebiReport"
   ]
  },
  {
   "cell_type": "code",
   "execution_count": 27,
   "id": "c61f5358-243d-4e16-9035-5f1857086d25",
   "metadata": {},
   "outputs": [],
   "source": [
    "docspecstring = wpt.getReportXMLString(myWebiPathReport)\n",
    "xmldoc = wpt.getReportXML(myWebiPathReport)\n",
    "\n",
    "# print(docspecstring)"
   ]
  },
  {
   "cell_type": "code",
   "execution_count": 28,
   "id": "a91b3776-3804-43be-96cb-f9d6be7c62da",
   "metadata": {},
   "outputs": [
    {
     "name": "stdout",
     "output_type": "stream",
     "text": [
      "analyzing report LFI024 Loonkostenprognose(0).wid\n",
      "\n",
      "retrieving report variables\n",
      "closing the file\n"
     ]
    }
   ],
   "source": [
    "# %%time\n",
    "\n",
    "print( 'analyzing report', myWebiReport)\n",
    "print()\n",
    "\n",
    "# Get all report variables\n",
    "print( 'retrieving report variables')\n",
    "allvarlist = wpt.getAllReportVariables(myWebiPathReport)\n",
    "# df_vars = pd.DataFrame(allvarlist, columns =['ID', 'Name', 'Type', 'Universe','Info'])\n",
    "# print(df_vars.value_counts(subset=['Type'], ascending=False ).to_string())\n",
    "\n",
    "# print( 'found', len(allvarlist), 'variables')\n",
    "\n",
    "# print (allvarlist)"
   ]
  },
  {
   "cell_type": "code",
   "execution_count": 29,
   "id": "379f13b5-236a-459e-8c00-f9754186cf2f",
   "metadata": {},
   "outputs": [
    {
     "name": "stdout",
     "output_type": "stream",
     "text": [
      "\n",
      "retrieving dependencies...\n",
      "done\n",
      "Type                    Report dependency\n",
      "DataProvider Object     Ja                   35\n",
      "                        Nee                  16\n",
      "Report Variable         Ja                   31\n",
      "                        Nee                   4\n",
      "Samengevoegde dimensie  Ja                    5\n",
      "                        Nee                   2\n",
      "\n",
      "CPU times: total: 234 ms\n",
      "Wall time: 254 ms\n"
     ]
    }
   ],
   "source": [
    "%%time\n",
    "\n",
    "# Get all dependencies\n",
    "print()\n",
    "print( 'retrieving dependencies...')\n",
    "vardeps = wpt.getAllVariableDepencencies(myWebiPathReport, allvarlist)\n",
    "print( 'done')\n",
    "# Get shortest path from var to reporth\n",
    "vardepslist = wpt.getReportVarsAndDependencies(allvarlist, vardeps)\n",
    "\n",
    "df_vardependencies = pd.DataFrame(vardepslist, columns =['Var Nr', 'ID', 'Name', 'Type', 'Info',  'DP ID', 'Universe','Report dependency', 'Path', 'Count'])\n",
    "# print('created var dependencies')\n",
    "print(df_vardependencies.value_counts(subset=['Type', 'Report dependency'], sort=False).to_string() )\n",
    "\n",
    "print()"
   ]
  },
  {
   "cell_type": "code",
   "execution_count": 30,
   "id": "1613d428-566d-4d3f-a887-c598aa147361",
   "metadata": {
    "scrolled": true
   },
   "outputs": [
    {
     "name": "stdout",
     "output_type": "stream",
     "text": [
      "CPU times: total: 141 ms\n",
      "Wall time: 129 ms\n"
     ]
    }
   ],
   "source": [
    "%%time \n",
    "# Get all xpaths of report vars\n",
    "varreportusage = []\n",
    "\n",
    "xpaths = wpt.getReportXPaths(xmldoc)\n",
    "\n",
    "for i, myvar in enumerate(allvarlist):\n",
    "    varID = myvar[0]\n",
    "\n",
    "    varpaths = []\n",
    "    for varpath in xpaths:\n",
    "        foundvars = varpath[4]\n",
    "        if varID in foundvars:\n",
    "            varpaths.append(varpath[0])\n",
    "\n",
    "    # remove duplicates\n",
    "    varpaths = list(set(varpaths))\n",
    "    \n",
    "    for xpath in varpaths:\n",
    "        varreportusage.append((myvar[0], myvar[1], myvar[2], myvar[4], xpath))\n",
    "\n",
    "df_varreportusage = pd.DataFrame(varreportusage, columns =['Var ID', 'Name', 'Type', 'Info', 'Report XPath'])\n"
   ]
  },
  {
   "cell_type": "code",
   "execution_count": 31,
   "id": "5ad12209-7e0f-4077-96af-204a2f08ee29",
   "metadata": {},
   "outputs": [
    {
     "name": "stdout",
     "output_type": "stream",
     "text": [
      "created alerter usage\n",
      "export to excel complete\n"
     ]
    }
   ],
   "source": [
    "# Get alerter status\n",
    "alert_stat = wpt.getAlerterStatus(myWebiPathReport)\n",
    "df_alerters = pd.DataFrame(alert_stat, columns =['Alerter ID', 'Alerter Name', 'Status'])\n",
    "print('created alerter usage')\n",
    "\n",
    "# Write results to excel\n",
    "with pd.ExcelWriter(mypath + myWebiReport + '.xlsx') as excel_writer:\n",
    "    df_vardependencies.to_excel(excel_writer, sheet_name='Variable dependencies', index=False)\n",
    "    df_varreportusage.to_excel(excel_writer, sheet_name='Variable report usage', index=False)\n",
    "    df_alerters.to_excel(excel_writer, sheet_name='Alerter status', index=False)\n",
    "\n",
    "print( 'export to excel complete')"
   ]
  },
  {
   "cell_type": "code",
   "execution_count": null,
   "id": "5483310f-3ab5-47b2-8109-820664c1b5cc",
   "metadata": {},
   "outputs": [],
   "source": []
  },
  {
   "cell_type": "code",
   "execution_count": null,
   "id": "9a3be8b4-2aed-4dab-b7dd-56ab180b029f",
   "metadata": {},
   "outputs": [],
   "source": []
  }
 ],
 "metadata": {
  "kernelspec": {
   "display_name": "Python 3 (ipykernel)",
   "language": "python",
   "name": "python3"
  },
  "language_info": {
   "codemirror_mode": {
    "name": "ipython",
    "version": 3
   },
   "file_extension": ".py",
   "mimetype": "text/x-python",
   "name": "python",
   "nbconvert_exporter": "python",
   "pygments_lexer": "ipython3",
   "version": "3.10.11"
  }
 },
 "nbformat": 4,
 "nbformat_minor": 5
}
